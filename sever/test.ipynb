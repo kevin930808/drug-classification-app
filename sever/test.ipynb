{
 "cells": [
  {
   "cell_type": "code",
   "execution_count": 8,
   "id": "afd14981-ea71-4f6f-9905-d378fb490b50",
   "metadata": {
    "tags": []
   },
   "outputs": [
    {
     "name": "stdout",
     "output_type": "stream",
     "text": [
      "{'shape': ['pill_round'], 'letter': ['word', 'word'], 'color': [['orange', 0.4251890182495117]]}\n"
     ]
    }
   ],
   "source": [
    "import requests\n",
    "\n",
    "url = \"http://localhost:8000/detect/\"\n",
    "image_path = r\"C:\\Users\\tnt93\\Desktop\\drug classification app by fju\\drug-classification-app\\sever\\data base photo\\得安穩.jpeg\"\n",
    "\n",
    "with open(image_path, \"rb\") as f:\n",
    "    files = {\"file\": (image_path, f, \"image/jpg\")}\n",
    "    response = requests.post(url, files=files)\n",
    "\n",
    "print(response.json())"
   ]
  },
  {
   "cell_type": "code",
   "execution_count": null,
   "id": "96859a61-0fd1-4534-ad1e-c1ba02b89318",
   "metadata": {},
   "outputs": [],
   "source": []
  },
  {
   "cell_type": "code",
   "execution_count": null,
   "id": "11c43e85-4ee6-4dae-8478-23e614506a52",
   "metadata": {},
   "outputs": [],
   "source": []
  },
  {
   "cell_type": "code",
   "execution_count": null,
   "id": "955866bd-8e9c-46bb-84b2-dd614289e152",
   "metadata": {},
   "outputs": [],
   "source": []
  }
 ],
 "metadata": {
  "kernelspec": {
   "display_name": "Python 3 (ipykernel)",
   "language": "python",
   "name": "python3"
  },
  "language_info": {
   "codemirror_mode": {
    "name": "ipython",
    "version": 3
   },
   "file_extension": ".py",
   "mimetype": "text/x-python",
   "name": "python",
   "nbconvert_exporter": "python",
   "pygments_lexer": "ipython3",
   "version": "3.9.18"
  }
 },
 "nbformat": 4,
 "nbformat_minor": 5
}
